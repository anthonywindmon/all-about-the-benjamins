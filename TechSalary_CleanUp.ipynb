{
 "cells": [
  {
   "cell_type": "code",
   "execution_count": 23,
   "metadata": {},
   "outputs": [
    {
     "name": "stdout",
     "output_type": "stream",
     "text": [
      "Shape of data:  (2241, 10)\n"
     ]
    }
   ],
   "source": [
    "'''\n",
    "Code by Anthony Windmon (with help from the internet! Because, why not?)\n",
    "\n",
    "Twitter user @engineering_bae took a survey of the salaries for varying tech jobs!\n",
    "The survey asked for job and industry titles, whether or not the job is remote, \n",
    "the size of the company, the annual salary and the job's location! The data was collected on a Google Doc.\n",
    "\n",
    "When I saved the data (and, took the survey myself!), 2200+ entries were made extending from September 2020-April 2021 (month-end).\n",
    "The purpose of this script is to clean the dataset and prepare it for data visualization.\n",
    "\n",
    "NOTE: DUE TO THE SIZE OF THE DATASET, MANY OF STATEMENT THAT PRINT OUT THE DATASET'S CONTENTS HAVE BEEN COMMENTED OUT FOR PRESENTATION PURPOSES. \n",
    "HOWEVER, FEEL FREE TO UNCOMMENT IF YOU WANT TO SEE THE RESULTS.\n",
    "\n",
    "'''\n",
    "\n",
    "import pandas as pd\n",
    "\n",
    "#importing salary dataset - if you're using this code, you will have to change this path\n",
    "tech_salary = pd.read_csv('C:\\\Tech_Salary_Transparency_Form_Responses.csv')\n",
    "#Number of entries and variables (2139, 10) as of 02/24/2020\n",
    "print('Shape of data: ',tech_salary.shape)"
   ]
  },
  {
   "cell_type": "code",
   "execution_count": 24,
   "metadata": {
    "scrolled": false
   },
   "outputs": [
    {
     "name": "stdout",
     "output_type": "stream",
     "text": [
      "               Timestamp                             Title  \\\n",
      "0      9/9/2020 22:17:07   Head of <redacted> technologies   \n",
      "1     9/20/2020 12:19:13          Senior Software Engineer   \n",
      "2     9/19/2020 18:50:46  Senior Site Reliability Engineer   \n",
      "3      9/9/2020 20:25:55                 Software Engineer   \n",
      "4     9/19/2020 21:01:23                     Web Developer   \n",
      "...                  ...                               ...   \n",
      "2236  4/11/2021 10:06:24      Head of business development   \n",
      "2237  4/14/2021 14:45:14                   Program Manager   \n",
      "2238  4/27/2021 13:51:52                 Backend Developer   \n",
      "2239  4/27/2021 14:57:12         Junior Web Apps Developer   \n",
      "2240   4/30/2021 7:59:46               Senior Ops Engineer   \n",
      "\n",
      "                      Location Remote?     Org Size            Salary  \\\n",
      "0          St. Paul, Minnesota      No     51 - 500        US$165,000   \n",
      "1     Porto Alegre/RS - Brazil      No       > 5000  US$ 18400 / year   \n",
      "2             Toronto, Ontario      No   501 - 1000     CAD $174,000    \n",
      "3                Chantilly, VA      No       > 5000             98000   \n",
      "4                Canberra, ACT     Yes       11- 50           $97,294   \n",
      "...                        ...     ...          ...               ...   \n",
      "2236                 New York      Yes   501 - 1000            325000   \n",
      "2237                   Seattle      No       > 5000            120000   \n",
      "2238        Frankfurt, Germany      No       11- 50             60000   \n",
      "2239            Chennai, India      No     51 - 500            3,200$   \n",
      "2240               Raleigh, NC      No  1001 - 5000          $155,000   \n",
      "\n",
      "     Years of experience       Industry  \\\n",
      "0                    NaN            NaN   \n",
      "1                     17     Mediatech    \n",
      "2                     21  Software/SaaS   \n",
      "3                    NaN            NaN   \n",
      "4                     13      Marketing   \n",
      "...                  ...            ...   \n",
      "2236                  15        Finance   \n",
      "2237                   2           Tech   \n",
      "2238                   4      Financial   \n",
      "2239                   1  Health & Saas   \n",
      "2240                   5    Video games   \n",
      "\n",
      "                                    Additional comments  \\\n",
      "0                                                   NaN   \n",
      "1                                                   NaN   \n",
      "2                                                   NaN   \n",
      "3                                                   NaN   \n",
      "4     The tech industry does exist outside of the US...   \n",
      "...                                                 ...   \n",
      "2236                                                NaN   \n",
      "2237                                                NaN   \n",
      "2238                                                NaN   \n",
      "2239                                                NaN   \n",
      "2240                               Bonus varies widely.   \n",
      "\n",
      "                                      Additional perks?  \n",
      "0                                                   NaN  \n",
      "1                                                   NaN  \n",
      "2     Options, hiring bonus, stock purchase plan, an...  \n",
      "3                                                   NaN  \n",
      "4                                                    No  \n",
      "...                                                 ...  \n",
      "2236                                      Yes, uncapped  \n",
      "2237                                              50000  \n",
      "2238                                                NaN  \n",
      "2239                                                 No  \n",
      "2240                         Yes, bonus -- $50-100k+/yr  \n",
      "\n",
      "[2241 rows x 10 columns]\n"
     ]
    }
   ],
   "source": [
    "print(tech_salary)"
   ]
  },
  {
   "cell_type": "code",
   "execution_count": 25,
   "metadata": {
    "scrolled": true
   },
   "outputs": [
    {
     "name": "stdout",
     "output_type": "stream",
     "text": [
      "Timestamp              object\n",
      "Title                  object\n",
      "Location               object\n",
      "Remote?                object\n",
      "Org Size               object\n",
      "Salary                 object\n",
      "Years of experience    object\n",
      "Industry               object\n",
      "Additional comments    object\n",
      "Additional perks?      object\n",
      "dtype: object\n"
     ]
    }
   ],
   "source": [
    "#identifying data types present in the dataset\n",
    "print(tech_salary.dtypes)"
   ]
  },
  {
   "cell_type": "code",
   "execution_count": 26,
   "metadata": {
    "scrolled": true
   },
   "outputs": [
    {
     "name": "stdout",
     "output_type": "stream",
     "text": [
      "Any nan values?: True\n",
      "Number of nan values: 5\n"
     ]
    }
   ],
   "source": [
    "#Cleaning dataset -- Salaries \n",
    "#Replacing 'k' with '000'\n",
    "#Removing comas, dollar signs, etc.\n",
    "tech_salary_SALARY = tech_salary['Salary'].str.replace('k','000').str.replace(',','').str.replace('$', '').str.replace('/','').str.replace('year','').str.replace('US',' ').str.replace('CAD',' ')\n",
    "#Removing all additional characters from the salary --- some data included additonal characters/comments regarding salary\n",
    "#Those additional characters/comments were unnecessary\n",
    "tech_salary_SALARY = tech_salary_SALARY.str.extract('(\\d+)', expand=False)\n",
    "\n",
    "#Checking for missing or n/a data \n",
    "print('Any nan values?:', tech_salary_SALARY.isnull().values.any())\n",
    "print('Number of nan values:',tech_salary_SALARY.isnull().sum())\n",
    "tech_salary_SALARY = tech_salary_SALARY.dropna()\n",
    "#Got errors trying to convert to 'int' - 'int64' worked\n",
    "tech_salary_SALARY = tech_salary_SALARY.astype('int64')\n",
    "\n",
    "#printing out cleaned salaries -- salaries are not done being cleaned\n",
    "#for salaries in tech_salary_SALARY:\n",
    " #   print(salaries)"
   ]
  },
  {
   "cell_type": "code",
   "execution_count": 27,
   "metadata": {},
   "outputs": [
    {
     "data": {
      "text/plain": [
       "\"\\n#Removing obvious outliers - salaries that smaller than 20,000 and larger than 1 million\\n#I am focusing on annual salaries ONLY\\nsalary_list = []\\n\\nfor salaries in tech_salary_SALARY:\\n    salary_list.append(salaries)\\n    for sals in salary_list:\\n        if sals < 20000 or sals >= 1000000:\\n            salary_list.remove(sals)\\nprint(salary_list)\\n\\n#finding smallest element in the list - make sure the last block of code worked\\nsalary_list.sort()\\nprint('Lowest salary presented is: ', *salary_list[:1])\\n\\n#statistics of salary data presented in the list \\nfrom statistics import mean\\nfrom collections import Counter\\nprint('Mean of Salaries: ', mean(salary_list))\\n\\nsals_data = Counter(salary_list)\\nprint('Most reoccurring salary: ', sals_data.most_common(1))\\n\\n#checking for additional outliers\\nimport seaborn as sns\\nsns.boxplot(x=salary_list)\\n\\n#for salary in tech_salary_SALARY:\\n #  print(salary)\\n \\n #convert list to dataframe to go back into the dataset\\nimport pandas as pd\\nfrom pandas import DataFrame\\ntech_salary_cleaned = DataFrame(salary_list, columns=['Cleaned Salary'])\\n\\n\""
      ]
     },
     "execution_count": 27,
     "metadata": {},
     "output_type": "execute_result"
    }
   ],
   "source": [
    "#This block of code did not work, but I included it anyway...since I spent so much time on it!\n",
    "\n",
    "'''\n",
    "#Removing obvious outliers - salaries that smaller than 20,000 and larger than 1 million\n",
    "#I am focusing on annual salaries ONLY\n",
    "salary_list = []\n",
    "\n",
    "for salaries in tech_salary_SALARY:\n",
    "    salary_list.append(salaries)\n",
    "    for sals in salary_list:\n",
    "        if sals < 20000 or sals >= 1000000:\n",
    "            salary_list.remove(sals)\n",
    "print(salary_list)\n",
    "\n",
    "#finding smallest element in the list - make sure the last block of code worked\n",
    "salary_list.sort()\n",
    "print('Lowest salary presented is: ', *salary_list[:1])\n",
    "\n",
    "#statistics of salary data presented in the list \n",
    "from statistics import mean\n",
    "from collections import Counter\n",
    "print('Mean of Salaries: ', mean(salary_list))\n",
    "\n",
    "sals_data = Counter(salary_list)\n",
    "print('Most reoccurring salary: ', sals_data.most_common(1))\n",
    "\n",
    "#checking for additional outliers\n",
    "import seaborn as sns\n",
    "sns.boxplot(x=salary_list)\n",
    "\n",
    "#for salary in tech_salary_SALARY:\n",
    " #  print(salary)\n",
    " \n",
    " #convert list to dataframe to go back into the dataset\n",
    "import pandas as pd\n",
    "from pandas import DataFrame\n",
    "tech_salary_cleaned = DataFrame(salary_list, columns=['Cleaned Salary'])\n",
    "\n",
    "'''"
   ]
  },
  {
   "cell_type": "code",
   "execution_count": 28,
   "metadata": {},
   "outputs": [],
   "source": [
    "#Adding semi-cleaned salary back into the original dataset\n",
    "tech_salary['Salary'] = tech_salary_SALARY\n",
    "#Removing obvious outliers -- I am also focusing ONLY on annual salaries\n",
    "tech_salary = tech_salary[tech_salary['Salary'] < 1000000]\n",
    "tech_salary = tech_salary[tech_salary['Salary'] > 20000]\n",
    "#for salaries in tech_salary['Salary']:\n",
    "    #print(salaries)"
   ]
  },
  {
   "cell_type": "code",
   "execution_count": 29,
   "metadata": {},
   "outputs": [
    {
     "name": "stdout",
     "output_type": "stream",
     "text": [
      "The average salary:  131460.87067740408\n",
      "The most reoccurening salary:  0    150000.0\n",
      "dtype: float64\n",
      "The highest salary:  950000.0\n"
     ]
    }
   ],
   "source": [
    "#Based on the boxplot, the majority of the salaries are < ~$300,000\n",
    "#Salaries larger than that are considered outliers. \n",
    "#If I was doing a classification algorithm with this data, I would remove all outliers\n",
    "print('The average salary: ',tech_salary['Salary'].mean())\n",
    "print('The most reoccurening salary: ', tech_salary['Salary'].mode())\n",
    "print('The highest salary: ', tech_salary['Salary'].max())"
   ]
  },
  {
   "cell_type": "code",
   "execution_count": 8,
   "metadata": {
    "scrolled": true
   },
   "outputs": [
    {
     "name": "stdout",
     "output_type": "stream",
     "text": [
      "The average salary:  128052.85891325072\n",
      "The most reoccurening salary:  0    150000.0\n",
      "dtype: float64\n",
      "The highest salary:  473500.0\n"
     ]
    }
   ],
   "source": [
    "#Based on the boxplot, I am removing salaries > 500,000\n",
    "tech_salary = tech_salary[tech_salary['Salary'] < 500000]\n",
    "print('The average salary: ',tech_salary['Salary'].mean())\n",
    "print('The most reoccurening salary: ', tech_salary['Salary'].mode())\n",
    "print('The highest salary: ', tech_salary['Salary'].max())"
   ]
  },
  {
   "cell_type": "code",
   "execution_count": 30,
   "metadata": {
    "scrolled": true
   },
   "outputs": [],
   "source": [
    "#Cleaning dataset -- Years of experience \n",
    "#for years in tech_salary['Years of experience']:\n",
    " #   print(years)"
   ]
  },
  {
   "cell_type": "code",
   "execution_count": 31,
   "metadata": {},
   "outputs": [
    {
     "name": "stdout",
     "output_type": "stream",
     "text": [
      "Any nan values?: True\n",
      "Number of nan values: 120\n"
     ]
    }
   ],
   "source": [
    "#There are many 'nan' values found within the YOE's\n",
    "print('Any nan values?:', tech_salary['Years of experience'].isnull().values.any())\n",
    "print('Number of nan values:',tech_salary['Years of experience'].isnull().sum())\n",
    "#a different method to drop the 'nan'/'na' values\n",
    "tech_salary=tech_salary[tech_salary['Years of experience'].notna()]\n",
    "#for years in tech_salary['Years of experience']:\n",
    " #   print(years)"
   ]
  },
  {
   "cell_type": "code",
   "execution_count": 12,
   "metadata": {},
   "outputs": [],
   "source": [
    "#Highest YOE entered -- before removing outliers\n",
    "#highest_YOE = max(tech_salary['Years of experience'], key=lambda x:float(x))\n",
    "#print('Highest YOE: ', highest_YOE)"
   ]
  },
  {
   "cell_type": "code",
   "execution_count": 32,
   "metadata": {},
   "outputs": [],
   "source": [
    "#Removing outliers\n",
    "tech_salary['Years of experience'] = tech_salary['Years of experience'].astype(float)\n",
    "tech_salary = tech_salary[tech_salary['Years of experience'] < 100]\n",
    "#tech_salary['Years of experience'] = tech_salary\n",
    "#for years in tech_salary['Years of experience']:\n",
    " #   print(years)"
   ]
  },
  {
   "cell_type": "code",
   "execution_count": 12,
   "metadata": {},
   "outputs": [],
   "source": [
    "#Highest YOE entered -- after removing outliers\n",
    "#highest_YOE = max(tech_salary['Years of experience'], key=lambda x:float(x))\n",
    "#print('Highest YOE: ', highest_YOE)"
   ]
  },
  {
   "cell_type": "code",
   "execution_count": 33,
   "metadata": {},
   "outputs": [],
   "source": [
    "#Cleaning dataset -- Location\n",
    "#for locations in tech_salary['Location']:\n",
    " #   print(locations)"
   ]
  },
  {
   "cell_type": "code",
   "execution_count": 14,
   "metadata": {},
   "outputs": [
    {
     "name": "stdout",
     "output_type": "stream",
     "text": [
      "The amount of unique locations:  820\n",
      "Any nan values?: True\n",
      "Number of nan values: 1\n"
     ]
    }
   ],
   "source": [
    "print('The amount of unique locations: ', tech_salary['Location'].nunique())\n",
    "print('Any nan values?:', tech_salary['Location'].isnull().values.any())\n",
    "print('Number of nan values:',tech_salary['Location'].isnull().sum())\n",
    "tech_salary=tech_salary[tech_salary['Location'].notna()]"
   ]
  },
  {
   "cell_type": "code",
   "execution_count": 34,
   "metadata": {},
   "outputs": [],
   "source": [
    "#Removing extra characters from the location entries\n",
    "tech_salary['Location'] = tech_salary['Location'].str.split(',').str[0]\n",
    "tech_salary['Location'] = tech_salary['Location'].str.split('.').str[0]\n",
    "tech_salary['Location'] = tech_salary['Location'].str.split('-').str[0]\n",
    "tech_salary['Location'] = tech_salary['Location'].str.split('(').str[0]\n",
    "\n",
    "#Removing entries including non-alpha input and making all entries uniform\n",
    "import re\n",
    "#tech_salary['Location'] = tech_salary['Location'].str.replace('[^a-zA-Z]', '')\n",
    "tech_salary['Location'] = tech_salary['Location'].str.lower()\n",
    "\n",
    "\n",
    "#for los in tech_salary['Location']:\n",
    " #   print(los)"
   ]
  },
  {
   "cell_type": "code",
   "execution_count": 35,
   "metadata": {},
   "outputs": [],
   "source": [
    "#Fixing some typical abbrevations -- I could have did this all day. There were so many!\n",
    "tech_salary.loc[tech_salary['Location'] == 'new york', 'Location'] = 'nyc'\n",
    "tech_salary.loc[tech_salary['Location'] == 'new york city', 'Location'] = 'nyc'\n",
    "tech_salary.loc[tech_salary['Location'] == 'ny', 'Location'] = 'nyc'\n",
    "tech_salary.loc[tech_salary['Location'] == 'washington dc', 'Location'] = 'dc'\n",
    "tech_salary.loc[tech_salary['Location'] == 'washington d', 'Location'] = 'dc'\n",
    "tech_salary.loc[tech_salary['Location'] == 'washington', 'Location'] = 'dc'\n",
    "tech_salary.loc[tech_salary['Location'] == 'ca', 'Location'] = 'california'\n",
    "tech_salary.loc[tech_salary['Location'] == 'sf', 'Location'] = 'san francisco'\n",
    "tech_salary.loc[tech_salary['Location'] == 'st', 'Location'] = 'st louis'\n",
    "tech_salary.loc[tech_salary['Location'] == 'nc', 'Location'] = 'noth carolina'\n",
    "tech_salary.loc[tech_salary['Location'] == 'atlanta', 'Location'] = 'atl'\n",
    "tech_salary.loc[tech_salary['Location'] == 'tx', 'Location'] = 'texas'\n",
    "tech_salary.loc[tech_salary['Location'] == 'seatte', 'Location'] = 'seattle'\n",
    "tech_salary.loc[tech_salary['Location'] == 'bay area', 'Location'] = 'san francisco'\n",
    "tech_salary.loc[tech_salary['Location'] == 'sf bay area', 'Location'] = 'san francisco'\n",
    "tech_salary.loc[tech_salary['Location'] == 'fl', 'Location'] = 'florida'\n",
    "\n",
    "#for los in tech_salary['Location']:\n",
    " #   print(los)"
   ]
  },
  {
   "cell_type": "code",
   "execution_count": 17,
   "metadata": {},
   "outputs": [
    {
     "name": "stdout",
     "output_type": "stream",
     "text": [
      "Any nan values?: False\n",
      "Number of nan values: 0\n"
     ]
    }
   ],
   "source": [
    "#Cleaning dataset -- Remote?\n",
    "print('Any nan values?:', tech_salary['Remote?'].isnull().values.any())\n",
    "print('Number of nan values:',tech_salary['Remote?'].isnull().sum())"
   ]
  },
  {
   "cell_type": "code",
   "execution_count": 36,
   "metadata": {},
   "outputs": [],
   "source": [
    "#Cleaning data -- Title\n",
    "tech_salary['Title'] = tech_salary['Title'].str.lower()\n",
    "#print(tech_salary['Industry'].unique())\n",
    "\n",
    "#for entries in tech_salary['Title']:\n",
    " #   print(entries)"
   ]
  },
  {
   "cell_type": "code",
   "execution_count": 37,
   "metadata": {},
   "outputs": [],
   "source": [
    "\n",
    "def keywords_in_title(title, keywords):\n",
    "    for substring in keywords:\n",
    "        if substring in title:\n",
    "            return True\n",
    "    return False\n",
    "\n",
    "#I labelled as many jobs as I possibly could -- I am sure there are some missing\n",
    "def job_titles(title):\n",
    "    if keywords_in_title(title, ['data','big', 'machine', 'ml', 'ai', 'artifical']):\n",
    "        return 'Data'\n",
    "    elif keywords_in_title(title,['ios', 'android', 'mobile']):\n",
    "        return 'Mobile Dev'\n",
    "    elif keywords_in_title(title, ['software', 'developer', 'dev','swe']):\n",
    "        return 'Software Eng'\n",
    "    elif keywords_in_title(title, ['manag', 'sr', 'senior','director','president','head','ceo','coo','vice','vp','cheif','executive', 'lead', 'leader','principal','advanced','master','supervisor']): \n",
    "        return 'Management or Leadership'\n",
    "    elif keywords_in_title(title, ['business', 'consultant', 'it','project','finance','information','info','fintech','cooperate']):\n",
    "        return 'Business'\n",
    "    elif keywords_in_title(title, ['cyber security', 'cybersecurity','fraud']):\n",
    "        return 'Cyber Security'\n",
    "    elif keywords_in_title(title, ['saas','insurance','life','retail','ad']):\n",
    "        return 'Sales'\n",
    "    elif keywords_in_title(title, ['government', 'gov']):\n",
    "        return 'Government'\n",
    "    elif keywords_in_title(title, ['medical', 'healthcare','health care', 'health','biotech','med','fit','biotechnology','mental','pharmaceutical','big pharma']):\n",
    "        return 'Medical and Wellness'\n",
    "    elif keywords_in_title(title, ['meal','hospitality','food','restaurant']):\n",
    "        return 'Hospitality'\n",
    "    elif keywords_in_title(title, ['video', 'media','music','social','news','entertainment','gaming','game','event']):\n",
    "        return 'Entertainment'\n",
    "    elif keywords_in_title(title, ['education','higher','academic','academica']):\n",
    "        return 'Education'\n",
    "    elif keywords_in_title(title, ['auto','travel','ridesharing','rideshare','ride','automative']):\n",
    "        return 'Transportation'\n",
    "    elif keywords_in_title(title, ['front','javascript','ui']):\n",
    "        return 'Front End'\n",
    "    elif keywords_in_title(title, ['back']):\n",
    "        return 'Back End'\n",
    "    elif keywords_in_title(title, ['full','web','rails']):\n",
    "        return 'Full Stack'\n",
    "    elif keywords_in_title(title, ['ux','user','design']):\n",
    "        return 'UX and Design'\n",
    "    elif keywords_in_title(title, ['test','qaulity','qa']):\n",
    "        return 'QA and Testing'\n",
    "    elif keywords_in_title(title, ['product']):\n",
    "        return 'Product'\n",
    "    elif keywords_in_title(title, ['engineer','tech','design']):\n",
    "        return 'General Engineering'\n",
    "    elif keywords_in_title(title, ['civil','infrastructure']):\n",
    "        return 'Civil Engineering'\n",
    "    elif keywords_in_title(title, ['mechanical','mech']):\n",
    "        return 'Mechanical Engineering'\n",
    "    elif keywords_in_title(title, ['network','server','security']):\n",
    "        return 'Network and Security Engineering'\n",
    "    elif keywords_in_title(title, ['support']):\n",
    "        return 'Support'\n",
    "    elif keywords_in_title(title, ['stats','quantitative','math','statistician']):\n",
    "        return 'Mathematics or Stats'\n",
    "    elif keywords_in_title(title, ['founder','independent']):\n",
    "        return 'Entrepreneurship'\n",
    "    elif keywords_in_title(title, ['junior', 'jr','associate']):\n",
    "        return 'Entry Level Eng'\n",
    "    elif keywords_in_title(title, ['research','phd','comput']):\n",
    "        return 'Research'\n",
    "    elif keywords_in_title(title, ['marketing', 'strategy']):\n",
    "        return 'Marketing'\n",
    "    else:\n",
    "        return 'Other'\n",
    "\n",
    "tech_salary['Categories']=tech_salary['Title'].fillna('').apply(job_titles)\n",
    "    \n",
    "#for cats in tech_salary['Categories']:\n",
    " #   print(cats)\n"
   ]
  },
  {
   "cell_type": "code",
   "execution_count": 20,
   "metadata": {},
   "outputs": [
    {
     "name": "stdout",
     "output_type": "stream",
     "text": [
      "['applications analyst' 'solutions analyst' 'staff scientist' 'cto'\n",
      " 'systems application analyst' 'staff 1' 'programmer analyst '\n",
      " 'erp programmer' 'z/os scheduller' 'gm' 'cio' 'programmer analyst'\n",
      " 'programmer' 'cryptographer' 'analyst ' 'analyst' 'ict4' 'ciso'\n",
      " 'progrqm analyst' 'cloud platform archtiect ' 'client partner'\n",
      " 'threat hunter' 'l7' 'cto ' 'operations analyst' 'gis analy6' 'md'\n",
      " 'red team operator' 'chief growth officer' 'dba' 'python evangelist'\n",
      " 'startup cto' 'cartographer + gis  ' 'sde2' 'people operations analyst'\n",
      " 'functional analyst']\n"
     ]
    }
   ],
   "source": [
    "print(tech_salary[tech_salary['Categories'] == 'Other']['Title'].unique())"
   ]
  },
  {
   "cell_type": "code",
   "execution_count": 21,
   "metadata": {},
   "outputs": [
    {
     "name": "stdout",
     "output_type": "stream",
     "text": [
      "Counter({'Software Eng': 904, 'Management or Leadership': 546, 'Business': 118, 'Data': 92, 'General Engineering': 87, 'Other': 52, 'UX and Design': 42, 'Mobile Dev': 41, 'Front End': 21, 'Sales': 12, 'Full Stack': 12, 'QA and Testing': 11, 'Product': 7, 'Entry Level Eng': 6, 'Research': 5, 'Marketing': 4, 'Medical and Wellness': 3, 'Support': 3, 'Back End': 3, 'Entrepreneurship': 2, 'Transportation': 2, 'Network and Security Engineering': 1, 'Civil Engineering': 1, 'Mathematics or Stats': 1})\n"
     ]
    }
   ],
   "source": [
    "#The amount of entries per category \n",
    "from collections import Counter \n",
    "job_cats = Counter(tech_salary['Categories'])\n",
    "print(job_cats)"
   ]
  },
  {
   "cell_type": "code",
   "execution_count": null,
   "metadata": {},
   "outputs": [],
   "source": [
    "#I decided not to do anything with the 'Industy' at the moment. I will come back and do something with soon!"
   ]
  },
  {
   "cell_type": "code",
   "execution_count": 22,
   "metadata": {},
   "outputs": [],
   "source": [
    "#Saving new dataset \n",
    "tech_salary.to_csv('C:\\\\Users\\\\awindmon\\\\Downloads\\\\cleanSalaryData.csv')"
   ]
  },
  {
   "cell_type": "code",
   "execution_count": null,
   "metadata": {},
   "outputs": [],
   "source": []
  }
 ],
 "metadata": {
  "kernelspec": {
   "display_name": "Python 3",
   "language": "python",
   "name": "python3"
  },
  "language_info": {
   "codemirror_mode": {
    "name": "ipython",
    "version": 3
   },
   "file_extension": ".py",
   "mimetype": "text/x-python",
   "name": "python",
   "nbconvert_exporter": "python",
   "pygments_lexer": "ipython3",
   "version": "3.6.5"
  }
 },
 "nbformat": 4,
 "nbformat_minor": 2
}
